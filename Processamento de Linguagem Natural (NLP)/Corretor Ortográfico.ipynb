{
 "cells": [
  {
   "cell_type": "markdown",
   "id": "e4634518",
   "metadata": {},
   "source": [
    "# Corretor Ortográfico Python"
   ]
  },
  {
   "cell_type": "markdown",
   "id": "3c690a7b",
   "metadata": {},
   "source": [
    "## Criando base de treinamento para o corretor ortográfico"
   ]
  },
  {
   "cell_type": "markdown",
   "id": "539cbe46",
   "metadata": {},
   "source": [
    "### Incluindo corpus textual"
   ]
  },
  {
   "cell_type": "code",
   "execution_count": 1,
   "id": "022bb378",
   "metadata": {},
   "outputs": [
    {
     "name": "stdout",
     "output_type": "stream",
     "text": [
      "\n",
      "\n",
      "\n",
      "imagem \n",
      "\n",
      "Temos a seguinte classe que representa um usuário no nosso sistema:\n",
      "\n",
      "java\n",
      "\n",
      "Para salvar um novo usuário, várias validações são feitas, como por exemplo: Ver se o nome só contém letras, [**o CPF só números**] e ver se o usuário possui no mínimo 18 anos. Veja o método que faz essa validação\n"
     ]
    }
   ],
   "source": [
    "with open(\"dados/artigos.txt\",\"r\", encoding='utf8') as f:\n",
    "    artigos = f.read()\n",
    "print(artigos[:300])"
   ]
  },
  {
   "cell_type": "code",
   "execution_count": 2,
   "id": "48c9b4b5",
   "metadata": {},
   "outputs": [
    {
     "data": {
      "text/plain": [
       "2605046"
      ]
     },
     "execution_count": 2,
     "metadata": {},
     "output_type": "execute_result"
    }
   ],
   "source": [
    "len(artigos)"
   ]
  },
  {
   "cell_type": "markdown",
   "id": "1f511a75",
   "metadata": {},
   "source": [
    "### Criando tokens"
   ]
  },
  {
   "cell_type": "code",
   "execution_count": 3,
   "id": "8643e3f0",
   "metadata": {},
   "outputs": [
    {
     "data": {
      "text/plain": [
       "['Olá,', 'tudo', 'bem?']"
      ]
     },
     "execution_count": 3,
     "metadata": {},
     "output_type": "execute_result"
    }
   ],
   "source": [
    "texto_exemplo = 'Olá, tudo bem?'\n",
    "tokens = texto_exemplo.split()\n",
    "tokens"
   ]
  },
  {
   "cell_type": "code",
   "execution_count": 4,
   "id": "17197e04",
   "metadata": {},
   "outputs": [
    {
     "data": {
      "text/plain": [
       "3"
      ]
     },
     "execution_count": 4,
     "metadata": {},
     "output_type": "execute_result"
    }
   ],
   "source": [
    "len(tokens)"
   ]
  },
  {
   "cell_type": "markdown",
   "id": "61b88f87",
   "metadata": {},
   "source": [
    "### Criando tokens contendo apenas palavras"
   ]
  },
  {
   "cell_type": "markdown",
   "id": "a951d0ce",
   "metadata": {},
   "source": [
    "Para isso será utilizada a biblioteca Natural Language Toolkit (nltk)"
   ]
  },
  {
   "cell_type": "code",
   "execution_count": 5,
   "id": "4c49df30",
   "metadata": {},
   "outputs": [
    {
     "name": "stderr",
     "output_type": "stream",
     "text": [
      "[nltk_data] Downloading package punkt to\n",
      "[nltk_data]     C:\\Users\\rafa_\\AppData\\Roaming\\nltk_data...\n",
      "[nltk_data]   Package punkt is already up-to-date!\n"
     ]
    },
    {
     "data": {
      "text/plain": [
       "True"
      ]
     },
     "execution_count": 5,
     "metadata": {},
     "output_type": "execute_result"
    }
   ],
   "source": [
    "import nltk\n",
    "nltk.download('punkt')"
   ]
  },
  {
   "cell_type": "code",
   "execution_count": 6,
   "id": "a2b996b9",
   "metadata": {},
   "outputs": [],
   "source": [
    "palavras_separadas = nltk.tokenize.word_tokenize(texto_exemplo)"
   ]
  },
  {
   "cell_type": "code",
   "execution_count": 7,
   "id": "2bf051ec",
   "metadata": {},
   "outputs": [
    {
     "data": {
      "text/plain": [
       "['Olá', ',', 'tudo', 'bem', '?']"
      ]
     },
     "execution_count": 7,
     "metadata": {},
     "output_type": "execute_result"
    }
   ],
   "source": [
    "palavras_separadas"
   ]
  },
  {
   "cell_type": "code",
   "execution_count": 8,
   "id": "c076f450",
   "metadata": {},
   "outputs": [
    {
     "data": {
      "text/plain": [
       "5"
      ]
     },
     "execution_count": 8,
     "metadata": {},
     "output_type": "execute_result"
    }
   ],
   "source": [
    "len(palavras_separadas)"
   ]
  },
  {
   "cell_type": "code",
   "execution_count": 9,
   "id": "76237222",
   "metadata": {},
   "outputs": [
    {
     "data": {
      "text/plain": [
       "True"
      ]
     },
     "execution_count": 9,
     "metadata": {},
     "output_type": "execute_result"
    }
   ],
   "source": [
    "'palavra'.isalpha()"
   ]
  },
  {
   "cell_type": "code",
   "execution_count": 10,
   "id": "ac622d30",
   "metadata": {},
   "outputs": [
    {
     "data": {
      "text/plain": [
       "False"
      ]
     },
     "execution_count": 10,
     "metadata": {},
     "output_type": "execute_result"
    }
   ],
   "source": [
    "'...!'.isalpha()"
   ]
  },
  {
   "cell_type": "code",
   "execution_count": 11,
   "id": "143fa578",
   "metadata": {},
   "outputs": [],
   "source": [
    "def retira_pontuacao(lista_tokens):\n",
    "    lista_palavras = []\n",
    "    \n",
    "    for token in lista_tokens:\n",
    "        if token.isalpha():\n",
    "            lista_palavras.append(token)\n",
    "            \n",
    "    return lista_palavras"
   ]
  },
  {
   "cell_type": "code",
   "execution_count": 12,
   "id": "288d0fb3",
   "metadata": {},
   "outputs": [
    {
     "data": {
      "text/plain": [
       "['Olá', 'tudo', 'bem']"
      ]
     },
     "execution_count": 12,
     "metadata": {},
     "output_type": "execute_result"
    }
   ],
   "source": [
    "retira_pontuacao(palavras_separadas)"
   ]
  },
  {
   "cell_type": "markdown",
   "id": "9488b6d2",
   "metadata": {},
   "source": [
    "### Aplicando técnica de 'tokenização' no corpus textual"
   ]
  },
  {
   "cell_type": "code",
   "execution_count": 13,
   "id": "aae0e898",
   "metadata": {},
   "outputs": [],
   "source": [
    "tokens = nltk.tokenize.word_tokenize(artigos)"
   ]
  },
  {
   "cell_type": "code",
   "execution_count": 14,
   "id": "05cc4af1",
   "metadata": {},
   "outputs": [
    {
     "data": {
      "text/plain": [
       "515905"
      ]
     },
     "execution_count": 14,
     "metadata": {},
     "output_type": "execute_result"
    }
   ],
   "source": [
    "len(tokens)"
   ]
  },
  {
   "cell_type": "code",
   "execution_count": 15,
   "id": "158588b3",
   "metadata": {},
   "outputs": [],
   "source": [
    "lista_palavras = retira_pontuacao(tokens)"
   ]
  },
  {
   "cell_type": "code",
   "execution_count": 16,
   "id": "ca7861a4",
   "metadata": {},
   "outputs": [
    {
     "data": {
      "text/plain": [
       "403104"
      ]
     },
     "execution_count": 16,
     "metadata": {},
     "output_type": "execute_result"
    }
   ],
   "source": [
    "len(lista_palavras)"
   ]
  },
  {
   "cell_type": "code",
   "execution_count": 17,
   "id": "bd65dd21",
   "metadata": {
    "scrolled": true
   },
   "outputs": [
    {
     "data": {
      "text/plain": [
       "['imagem', 'Temos', 'a', 'seguinte', 'classe']"
      ]
     },
     "execution_count": 17,
     "metadata": {},
     "output_type": "execute_result"
    }
   ],
   "source": [
    "lista_palavras[:5]"
   ]
  },
  {
   "cell_type": "markdown",
   "id": "4093d969",
   "metadata": {},
   "source": [
    "### Normalizando tokens para que contenham apenas caracteres minúsculos"
   ]
  },
  {
   "cell_type": "code",
   "execution_count": 18,
   "id": "d820ee9f",
   "metadata": {},
   "outputs": [],
   "source": [
    "def normalizacao(lista_palavras):\n",
    "    lista_normalizada = []\n",
    "    \n",
    "    for palavra in lista_palavras:\n",
    "        lista_normalizada.append(palavra.lower())\n",
    "        \n",
    "    return lista_normalizada"
   ]
  },
  {
   "cell_type": "code",
   "execution_count": 19,
   "id": "578f2671",
   "metadata": {},
   "outputs": [],
   "source": [
    "lista_normalizada = normalizacao(lista_palavras)"
   ]
  },
  {
   "cell_type": "code",
   "execution_count": 20,
   "id": "f053e7b0",
   "metadata": {},
   "outputs": [
    {
     "data": {
      "text/plain": [
       "['imagem', 'temos', 'a', 'seguinte', 'classe']"
      ]
     },
     "execution_count": 20,
     "metadata": {},
     "output_type": "execute_result"
    }
   ],
   "source": [
    "lista_normalizada[:5]"
   ]
  },
  {
   "cell_type": "markdown",
   "id": "ac1851d8",
   "metadata": {},
   "source": [
    "### Removendo palavras repetidas"
   ]
  },
  {
   "cell_type": "code",
   "execution_count": 21,
   "id": "57f0ae93",
   "metadata": {},
   "outputs": [
    {
     "data": {
      "text/plain": [
       "{1, 2, 3, 4, 5, 6}"
      ]
     },
     "execution_count": 21,
     "metadata": {},
     "output_type": "execute_result"
    }
   ],
   "source": [
    "set([1,2,2,3,3,3,4,4,5,6])"
   ]
  },
  {
   "cell_type": "code",
   "execution_count": 22,
   "id": "7891126f",
   "metadata": {},
   "outputs": [
    {
     "data": {
      "text/plain": [
       "18465"
      ]
     },
     "execution_count": 22,
     "metadata": {},
     "output_type": "execute_result"
    }
   ],
   "source": [
    "len(set(lista_normalizada))"
   ]
  },
  {
   "cell_type": "code",
   "execution_count": 23,
   "id": "7c1441f3",
   "metadata": {},
   "outputs": [
    {
     "data": {
      "text/plain": [
       "403104"
      ]
     },
     "execution_count": 23,
     "metadata": {},
     "output_type": "execute_result"
    }
   ],
   "source": [
    "len(lista_normalizada)"
   ]
  },
  {
   "cell_type": "markdown",
   "id": "ee63c36c",
   "metadata": {},
   "source": [
    "### Algoritmo de correção ortográfica"
   ]
  },
  {
   "cell_type": "markdown",
   "id": "60f0aa51",
   "metadata": {},
   "source": [
    "#### O algoritmo analisará toda a palavra em busca de caractere faltante, fatiando a palavra em parte Esquerda e parte Direita, incluindo entre as duas partes possíveis combinações de letras, gerando resultados diversos que serão comparados com o banco ,corpus textual, e retornará a palavra corrigida."
   ]
  },
  {
   "cell_type": "code",
   "execution_count": 24,
   "id": "3a60ee4d",
   "metadata": {},
   "outputs": [
    {
     "data": {
      "text/plain": [
       "[2, 3]"
      ]
     },
     "execution_count": 24,
     "metadata": {},
     "output_type": "execute_result"
    }
   ],
   "source": [
    "#fatiando listas\n",
    "lista = [1,2,3]\n",
    "lista[1:]"
   ]
  },
  {
   "cell_type": "code",
   "execution_count": 25,
   "id": "f40c3a74",
   "metadata": {},
   "outputs": [
    {
     "data": {
      "text/plain": [
       "'gi'"
      ]
     },
     "execution_count": 25,
     "metadata": {},
     "output_type": "execute_result"
    }
   ],
   "source": [
    "#fatiando string\n",
    "lista = 'lgica'\n",
    "lista[1:3]"
   ]
  },
  {
   "cell_type": "code",
   "execution_count": 26,
   "id": "37cc7ef8",
   "metadata": {},
   "outputs": [
    {
     "data": {
      "text/plain": [
       "('lg', 'ica')"
      ]
     },
     "execution_count": 26,
     "metadata": {},
     "output_type": "execute_result"
    }
   ],
   "source": [
    "#fatiando string em lado esquerdo e direito\n",
    "(lista[:2],lista[2:])"
   ]
  },
  {
   "cell_type": "code",
   "execution_count": 27,
   "id": "84fb9fb0",
   "metadata": {},
   "outputs": [
    {
     "name": "stdout",
     "output_type": "stream",
     "text": [
      "[('', 'lgica'), ('l', 'gica'), ('lg', 'ica'), ('lgi', 'ca'), ('lgic', 'a')]\n"
     ]
    }
   ],
   "source": [
    "#função que gera novas palavras (v.1)\n",
    "palavra_exemplo = 'lgica'\n",
    "def gerador_palavras(palavra):\n",
    "    fatias = []\n",
    "    \n",
    "    for i in range(len(palavra)):\n",
    "        fatias.append((palavra[:i],palavra[i:]))\n",
    "    print(fatias)\n",
    "    \n",
    "    #palavras_geradas = insere_letras(fatias)\n",
    "    #return palavras_geradas\n",
    "gerador_palavras(palavra_exemplo)"
   ]
  },
  {
   "cell_type": "code",
   "execution_count": 28,
   "id": "eb4768f2",
   "metadata": {},
   "outputs": [
    {
     "name": "stdout",
     "output_type": "stream",
     "text": [
      "[('', 'lgica'), ('l', 'gica'), ('lg', 'ica'), ('lgi', 'ca'), ('lgic', 'a'), ('lgica', '')]\n"
     ]
    }
   ],
   "source": [
    "#em v.1 a função não gera o último caso previsto --> ('lgica','')\n",
    "#para resolver, o for será reescrito --> for i in range(len(palavra) + 1)\n",
    "\n",
    "#função que gera novas palavras (v.2)\n",
    "palavra_exemplo = 'lgica'\n",
    "def gerador_palavras(palavra):\n",
    "    fatias = []\n",
    "    \n",
    "    for i in range(len(palavra) + 1):\n",
    "        fatias.append((palavra[:i],palavra[i:]))\n",
    "    print(fatias)\n",
    "    \n",
    "gerador_palavras(palavra_exemplo)"
   ]
  },
  {
   "cell_type": "markdown",
   "id": "5b6ff8c7",
   "metadata": {},
   "source": [
    "#### Algorítmo de geração de possíveis palavras"
   ]
  },
  {
   "cell_type": "code",
   "execution_count": 29,
   "id": "6c2f4afe",
   "metadata": {},
   "outputs": [
    {
     "name": "stdout",
     "output_type": "stream",
     "text": [
      "['algica', 'blgica', 'clgica', 'dlgica', 'elgica', 'flgica', 'glgica', 'hlgica', 'ilgica', 'jlgica']\n"
     ]
    }
   ],
   "source": [
    "palavra_exemplo = 'lgica'\n",
    "\n",
    "def insere_letras(fatias):\n",
    "    novas_palavras = []\n",
    "    alfabeto = 'abcdefghijklmnopqrstuvwxyzàáâãèéêìíîòóôõùúûç'\n",
    "    \n",
    "    for E, D in fatias:\n",
    "        for letra in alfabeto:\n",
    "            novas_palavras.append(E + letra + D)\n",
    "    return novas_palavras\n",
    "\n",
    "def gerador_palavras(palavra):\n",
    "    fatias = []\n",
    "    \n",
    "    for i in range(len(palavra) + 1):\n",
    "        fatias.append((palavra[:i],palavra[i:]))\n",
    "        \n",
    "    palavras_geradas = insere_letras(fatias)\n",
    "    return palavras_geradas\n",
    "    \n",
    "palavras_geradas = gerador_palavras(palavra_exemplo)\n",
    "print(palavras_geradas[:10])"
   ]
  },
  {
   "cell_type": "markdown",
   "id": "5e01b0e8",
   "metadata": {},
   "source": [
    "#### Algorítmo do corretor"
   ]
  },
  {
   "cell_type": "code",
   "execution_count": 30,
   "id": "2bdd59ec",
   "metadata": {},
   "outputs": [
    {
     "name": "stdout",
     "output_type": "stream",
     "text": [
      "[('de', 15502), ('o', 14056), ('que', 12230), ('a', 11099), ('e', 10501), ('para', 7710), ('um', 6368), ('é', 5899), ('uma', 5220), ('do', 5124)]\n",
      "96\n"
     ]
    }
   ],
   "source": [
    "total_palavras = len(lista_normalizada)\n",
    "frequencia = nltk.FreqDist(lista_normalizada)\n",
    "print(frequencia.most_common(10))\n",
    "print(frequencia['lógica'])"
   ]
  },
  {
   "cell_type": "code",
   "execution_count": 31,
   "id": "a9306eba",
   "metadata": {},
   "outputs": [
    {
     "data": {
      "text/plain": [
       "0.00023815194093831864"
      ]
     },
     "execution_count": 31,
     "metadata": {},
     "output_type": "execute_result"
    }
   ],
   "source": [
    "def probabilidade(palavra_gerada):\n",
    "    return frequencia[palavra_gerada]/total_palavras\n",
    "\n",
    "probabilidade('lógica')"
   ]
  },
  {
   "cell_type": "code",
   "execution_count": 32,
   "id": "8305e577",
   "metadata": {},
   "outputs": [
    {
     "data": {
      "text/plain": [
       "'lógica'"
      ]
     },
     "execution_count": 32,
     "metadata": {},
     "output_type": "execute_result"
    }
   ],
   "source": [
    "max(palavras_geradas, key=probabilidade)"
   ]
  },
  {
   "cell_type": "code",
   "execution_count": 33,
   "id": "77ae43a6",
   "metadata": {},
   "outputs": [],
   "source": [
    "def corretor(palavra):\n",
    "    palavras_geradas = gerador_palavras(palavra)\n",
    "    palavra_correta = max(palavras_geradas, key=probabilidade)\n",
    "    return palavra_correta"
   ]
  },
  {
   "cell_type": "code",
   "execution_count": 34,
   "id": "32519649",
   "metadata": {},
   "outputs": [
    {
     "data": {
      "text/plain": [
       "'lógica'"
      ]
     },
     "execution_count": 34,
     "metadata": {},
     "output_type": "execute_result"
    }
   ],
   "source": [
    "corretor(palavra_exemplo)"
   ]
  },
  {
   "cell_type": "code",
   "execution_count": 35,
   "id": "6698be55",
   "metadata": {},
   "outputs": [
    {
     "data": {
      "text/plain": [
       "'cálculo'"
      ]
     },
     "execution_count": 35,
     "metadata": {},
     "output_type": "execute_result"
    }
   ],
   "source": [
    "corretor('clculo')"
   ]
  },
  {
   "cell_type": "markdown",
   "id": "8e00cc89",
   "metadata": {},
   "source": [
    "## Agrupando algorítmo de correção de palavra para o caso de falta de um caractere. 'lgica' -> 'lógica'"
   ]
  },
  {
   "cell_type": "code",
   "execution_count": 36,
   "id": "56576081",
   "metadata": {},
   "outputs": [],
   "source": [
    "total_palavras = len(lista_normalizada)\n",
    "frequencia = nltk.FreqDist(lista_normalizada)\n",
    "palavra_exemplo = 'lgica'\n",
    "\n",
    "def insere_letras(fatias):\n",
    "    novas_palavras = []\n",
    "    alfabeto = 'abcdefghijklmnopqrstuvwxyzàáâãèéêìíîòóôõùúûç'\n",
    "    \n",
    "    for E, D in fatias:\n",
    "        for letra in alfabeto:\n",
    "            novas_palavras.append(E + letra + D)\n",
    "    return novas_palavras\n",
    "\n",
    "def gerador_palavras(palavra):\n",
    "    fatias = []\n",
    "    \n",
    "    for i in range(len(palavra) + 1):\n",
    "        fatias.append((palavra[:i],palavra[i:]))\n",
    "        \n",
    "    palavras_geradas = insere_letras(fatias)\n",
    "    return palavras_geradas\n",
    "\n",
    "def probabilidade(palavra_gerada):\n",
    "    return frequencia[palavra_gerada]/total_palavras\n",
    "\n",
    "def corretor(palavra):\n",
    "    palavras_geradas = gerador_palavras(palavra)\n",
    "    palavra_correta = max(palavras_geradas, key=probabilidade)\n",
    "    return palavra_correta"
   ]
  },
  {
   "cell_type": "markdown",
   "id": "dd009d82",
   "metadata": {},
   "source": [
    "### Avaliador da taxa de acerto do corretor"
   ]
  },
  {
   "cell_type": "code",
   "execution_count": 37,
   "id": "9e05471b",
   "metadata": {},
   "outputs": [],
   "source": [
    "def cria_dados_teste(nome_arquivo):\n",
    "    lista_palavras_teste = []\n",
    "    f = open(nome_arquivo, 'r', encoding='utf8')\n",
    "   \n",
    "    for linha in f:\n",
    "        correta, errada = linha.split()\n",
    "        lista_palavras_teste.append((correta, errada))\n",
    "    f.close()\n",
    "    return lista_palavras_teste\n",
    "\n"
   ]
  },
  {
   "cell_type": "code",
   "execution_count": 38,
   "id": "1736499d",
   "metadata": {
    "scrolled": true
   },
   "outputs": [
    {
     "data": {
      "text/plain": [
       "[('podemos', 'pyodemos'),\n",
       " ('esse', 'esje'),\n",
       " ('já', 'jrá'),\n",
       " ('nosso', 'nossov'),\n",
       " ('são', 'sãêo'),\n",
       " ('dos', 'dosa'),\n",
       " ('muito', 'muifo'),\n",
       " ('imagem', 'iômagem'),\n",
       " ('sua', 'ósua'),\n",
       " ('também', 'tambéùm')]"
      ]
     },
     "execution_count": 38,
     "metadata": {},
     "output_type": "execute_result"
    }
   ],
   "source": [
    "lista_teste = cria_dados_teste('Dados/palavras.txt')\n",
    "lista_teste[:10]"
   ]
  },
  {
   "cell_type": "code",
   "execution_count": 39,
   "id": "70ff7599",
   "metadata": {},
   "outputs": [],
   "source": [
    "def avaliador(testes):\n",
    "    numero_palavras = len(testes)\n",
    "    acertos = 0\n",
    "    for correta, errada in testes:\n",
    "        palavra_corrigida = corretor(errada)\n",
    "        if palavra_corrigida == correta:\n",
    "            acertos += 1\n",
    "    taxa_acerto = round(acertos*100/numero_palavras, 2)\n",
    "    print(f'{taxa_acerto}% de {numero_palavras} palavras')"
   ]
  },
  {
   "cell_type": "code",
   "execution_count": 40,
   "id": "48785e96",
   "metadata": {},
   "outputs": [
    {
     "name": "stdout",
     "output_type": "stream",
     "text": [
      "1.08% de 186 palavras\n"
     ]
    }
   ],
   "source": [
    "avaliador(lista_teste)"
   ]
  },
  {
   "cell_type": "markdown",
   "id": "c6bbf171",
   "metadata": {},
   "source": [
    "## Melhorando o corretor (parte 1) -  Correção de palavras com letra a mais. 'lóigica' -> 'lógica'"
   ]
  },
  {
   "cell_type": "code",
   "execution_count": 41,
   "id": "4211442e",
   "metadata": {},
   "outputs": [
    {
     "data": {
      "text/plain": [
       "'alavra'"
      ]
     },
     "execution_count": 41,
     "metadata": {},
     "output_type": "execute_result"
    }
   ],
   "source": [
    "'palavra'[1:]"
   ]
  },
  {
   "cell_type": "code",
   "execution_count": 42,
   "id": "6b0915bf",
   "metadata": {},
   "outputs": [],
   "source": [
    "def deleta_letra(fatias):\n",
    "    novas_palavras = []\n",
    "    \n",
    "    for E, D in fatias:\n",
    "        novas_palavras.append(E + D[1:])\n",
    "    return novas_palavras"
   ]
  },
  {
   "cell_type": "code",
   "execution_count": 43,
   "id": "9b48bdf4",
   "metadata": {},
   "outputs": [],
   "source": [
    "def gerador_palavras(palavra):\n",
    "    fatias = []\n",
    "    \n",
    "    for i in range(len(palavra) + 1):\n",
    "        fatias.append((palavra[:i],palavra[i:]))\n",
    "    palavras_geradas = insere_letras(fatias)\n",
    "    palavras_geradas += deleta_letra(fatias)\n",
    "    return palavras_geradas"
   ]
  },
  {
   "cell_type": "code",
   "execution_count": 44,
   "id": "bee883f1",
   "metadata": {
    "scrolled": true
   },
   "outputs": [
    {
     "name": "stdout",
     "output_type": "stream",
     "text": [
      "['alóigica', 'blóigica', 'clóigica', 'dlóigica', 'elóigica', 'flóigica', 'glóigica', 'hlóigica', 'ilóigica', 'jlóigica']\n"
     ]
    }
   ],
   "source": [
    "palavra_exemplo = 'lóigica'\n",
    "palavras_geradas = gerador_palavras(palavra_exemplo)\n",
    "print(palavras_geradas[:10])"
   ]
  },
  {
   "cell_type": "code",
   "execution_count": 45,
   "id": "b38fc16f",
   "metadata": {},
   "outputs": [
    {
     "name": "stdout",
     "output_type": "stream",
     "text": [
      "41.4% de 186 palavras\n"
     ]
    }
   ],
   "source": [
    "avaliador(lista_teste)"
   ]
  },
  {
   "cell_type": "markdown",
   "id": "9e6f2005",
   "metadata": {},
   "source": [
    "## Melhorando o corretor (parte 2) - Correção de troca de letras. 'lígica' -> 'lógica'"
   ]
  },
  {
   "cell_type": "code",
   "execution_count": 46,
   "id": "0970b89b",
   "metadata": {
    "scrolled": true
   },
   "outputs": [
    {
     "name": "stdout",
     "output_type": "stream",
     "text": [
      "['alígica', 'blígica', 'clígica', 'dlígica', 'elígica', 'flígica', 'glígica', 'hlígica', 'ilígica', 'jlígica']\n"
     ]
    }
   ],
   "source": [
    "def insere_letras(fatias):\n",
    "    novas_palavras = []\n",
    "    alfabeto = 'abcdefghijklmnopqrstuvwxyzàáâãèéêìíîòóôõùúûç'\n",
    "    \n",
    "    for E, D in fatias:\n",
    "        for letra in alfabeto:\n",
    "            novas_palavras.append(E + letra + D)\n",
    "    return novas_palavras\n",
    "\n",
    "def deleta_letra(fatias):\n",
    "    novas_palavras = []\n",
    "    \n",
    "    for E, D in fatias:\n",
    "        novas_palavras.append(E + D[1:])\n",
    "    return novas_palavras\n",
    "\n",
    "def troca_letra(fatias):\n",
    "    novas_palavras = []\n",
    "    alfabeto = 'abcdefghijklmnopqrstuvwxyzàáâãèéêìíîòóôõùúûç'\n",
    "    \n",
    "    for E, D in fatias:\n",
    "        for letra in alfabeto:\n",
    "            novas_palavras.append(E + letra + D[1:])\n",
    "    return novas_palavras    \n",
    "\n",
    "def gerador_palavras(palavra):\n",
    "    fatias = []\n",
    "    \n",
    "    for i in range(len(palavra) + 1):\n",
    "        fatias.append((palavra[:i],palavra[i:]))\n",
    "    palavras_geradas = insere_letras(fatias)\n",
    "    palavras_geradas += deleta_letra(fatias)\n",
    "    palavras_geradas += troca_letra(fatias)\n",
    "    return palavras_geradas\n",
    "\n",
    "palavra_exemplo = 'lígica'\n",
    "palavras_geradas = gerador_palavras(palavra_exemplo)\n",
    "print(palavras_geradas[:10])"
   ]
  },
  {
   "cell_type": "code",
   "execution_count": 47,
   "id": "d2efe2de",
   "metadata": {},
   "outputs": [
    {
     "name": "stdout",
     "output_type": "stream",
     "text": [
      "76.34% de 186 palavras\n"
     ]
    }
   ],
   "source": [
    "avaliador(lista_teste)"
   ]
  },
  {
   "cell_type": "markdown",
   "id": "b3bd9fce",
   "metadata": {},
   "source": [
    "## Melhorando o corretor (parte 3) - Correção de letras em posições trocadas. 'lgóica' -> 'lógica'"
   ]
  },
  {
   "cell_type": "code",
   "execution_count": 48,
   "id": "7226efb8",
   "metadata": {},
   "outputs": [
    {
     "name": "stdout",
     "output_type": "stream",
     "text": [
      "['alógiac', 'blógiac', 'clógiac', 'dlógiac', 'elógiac', 'flógiac', 'glógiac', 'hlógiac', 'ilógiac', 'jlógiac']\n"
     ]
    }
   ],
   "source": [
    "def insere_letras(fatias):\n",
    "    novas_palavras = []\n",
    "    alfabeto = 'abcdefghijklmnopqrstuvwxyzàáâãèéêìíîòóôõùúûç'\n",
    "    \n",
    "    for E, D in fatias:\n",
    "        for letra in alfabeto:\n",
    "            novas_palavras.append(E + letra + D)\n",
    "    return novas_palavras\n",
    "\n",
    "def deleta_letra(fatias):\n",
    "    novas_palavras = []\n",
    "    \n",
    "    for E, D in fatias:\n",
    "        novas_palavras.append(E + D[1:])\n",
    "    return novas_palavras\n",
    "\n",
    "def troca_letra(fatias):\n",
    "    novas_palavras = []\n",
    "    alfabeto = 'abcdefghijklmnopqrstuvwxyzàáâãèéêìíîòóôõùúûç'\n",
    "    \n",
    "    for E, D in fatias:\n",
    "        for letra in alfabeto:\n",
    "            novas_palavras.append(E + letra + D[1:])\n",
    "    return novas_palavras    \n",
    "\n",
    "def inverte_letras(fatias):\n",
    "    novas_palavras = []\n",
    "    \n",
    "    for E, D in fatias:\n",
    "        if len(D) > 1:\n",
    "            novas_palavras.append(E + D[1] + D[0] + D[2:])\n",
    "    return novas_palavras\n",
    "\n",
    "def gerador_palavras(palavra):\n",
    "    fatias = []\n",
    "    \n",
    "    for i in range(len(palavra) + 1):\n",
    "        fatias.append((palavra[:i],palavra[i:]))\n",
    "    palavras_geradas = insere_letras(fatias)\n",
    "    palavras_geradas += deleta_letra(fatias)\n",
    "    palavras_geradas += troca_letra(fatias)\n",
    "    palavras_geradas += inverte_letras(fatias)\n",
    "    return palavras_geradas\n",
    "\n",
    "palavra_exemplo = 'lógiac'\n",
    "palavras_geradas = gerador_palavras(palavra_exemplo)\n",
    "print(palavras_geradas[:10])"
   ]
  },
  {
   "cell_type": "code",
   "execution_count": 49,
   "id": "1a7058af",
   "metadata": {},
   "outputs": [
    {
     "name": "stdout",
     "output_type": "stream",
     "text": [
      "76.34% de 186 palavras\n"
     ]
    }
   ],
   "source": [
    "avaliador(lista_teste)"
   ]
  },
  {
   "cell_type": "code",
   "execution_count": 50,
   "id": "389604d5",
   "metadata": {},
   "outputs": [
    {
     "data": {
      "text/plain": [
       "'lógica'"
      ]
     },
     "execution_count": 50,
     "metadata": {},
     "output_type": "execute_result"
    }
   ],
   "source": [
    "corretor('lógiac')"
   ]
  },
  {
   "cell_type": "code",
   "execution_count": 51,
   "id": "c8876d27",
   "metadata": {},
   "outputs": [
    {
     "data": {
      "text/plain": [
       "'lógica'"
      ]
     },
     "execution_count": 51,
     "metadata": {},
     "output_type": "execute_result"
    }
   ],
   "source": [
    "corretor('lógicaa')"
   ]
  },
  {
   "cell_type": "markdown",
   "id": "bec731df",
   "metadata": {},
   "source": [
    "## Avaliando quanto do erro está relacionado ao tamanho do vocabulário da função avaliador()"
   ]
  },
  {
   "cell_type": "code",
   "execution_count": 52,
   "id": "a11d0374",
   "metadata": {},
   "outputs": [
    {
     "name": "stdout",
     "output_type": "stream",
     "text": [
      "Acertou 76.34% de 186 palavras. Desconhecidas são 6.99%\n",
      "Palavras no vocalublário: 18465\n"
     ]
    }
   ],
   "source": [
    "def avaliador(testes, vocabulario):\n",
    "    numero_palavras = len(testes)\n",
    "    acertos = 0\n",
    "    desconhecida = 0\n",
    "    \n",
    "    for correta, errada in testes:\n",
    "        palavra_corrigida = corretor(errada)\n",
    "        if palavra_corrigida == correta:\n",
    "            acertos += 1\n",
    "        else:\n",
    "            desconhecida += (correta not in vocabulario)\n",
    "    taxa_acerto = round(acertos*100/numero_palavras, 2)\n",
    "    taxa_desconhecida = round(desconhecida*100/numero_palavras, 2)\n",
    "    print(f'Acertou {taxa_acerto}% de {numero_palavras} palavras. Desconhecidas são {taxa_desconhecida}%')\n",
    "\n",
    "vocabulario = set(lista_normalizada)\n",
    "avaliador(lista_teste, vocabulario)\n",
    "print(f'Palavras no vocalublário: {len(vocabulario)}')"
   ]
  },
  {
   "cell_type": "markdown",
   "id": "e5ceb59a",
   "metadata": {},
   "source": [
    "## Melhorando o corretor (parte 4) - Correção de palavras com até dois erros. 'lóiigica' -> 'lógica'"
   ]
  },
  {
   "cell_type": "code",
   "execution_count": 53,
   "id": "5d92434e",
   "metadata": {},
   "outputs": [],
   "source": [
    "palavra = 'lóiigica'\n",
    "\n",
    "def gerador_turbinado(palavras_geradas):\n",
    "    novas_palavras = []\n",
    "    for palavra in palavras_geradas:\n",
    "        novas_palavras += gerador_palavras(palavra)\n",
    "           \n",
    "    return novas_palavras"
   ]
  },
  {
   "cell_type": "code",
   "execution_count": 54,
   "id": "39d73d55",
   "metadata": {},
   "outputs": [
    {
     "data": {
      "text/plain": [
       "True"
      ]
     },
     "execution_count": 54,
     "metadata": {},
     "output_type": "execute_result"
    }
   ],
   "source": [
    "palavras_g = gerador_turbinado(gerador_palavras(palavra))\n",
    "\"lógica\" in palavras_g"
   ]
  },
  {
   "cell_type": "code",
   "execution_count": 55,
   "id": "6a728e97",
   "metadata": {},
   "outputs": [
    {
     "data": {
      "text/plain": [
       "691744"
      ]
     },
     "execution_count": 55,
     "metadata": {},
     "output_type": "execute_result"
    }
   ],
   "source": [
    "len(palavras_g)"
   ]
  },
  {
   "cell_type": "markdown",
   "id": "4e0f95ea",
   "metadata": {},
   "source": [
    "### Filtrando a quantidade de palavras geradas, e assim otimizar o processo de cálculos de probabilidade, uma vez que para uma única palavra são geradas mais de meio milhão de possibilidades."
   ]
  },
  {
   "cell_type": "code",
   "execution_count": 56,
   "id": "8f7f9546",
   "metadata": {},
   "outputs": [],
   "source": [
    "def novo_corretor(palavra):\n",
    "    palavras_geradas = gerador_palavras(palavra)\n",
    "    palavra_turbinada = gerador_turbinado(palavras_geradas)\n",
    "    todas_palavras = set(palavras_geradas + palavra_turbinada)\n",
    "    candidatos = [palavra]\n",
    "    for palavra in todas_palavras:\n",
    "        if palavra in vocabulario:\n",
    "            candidatos.append(palavra) \n",
    "                       \n",
    "    palavra_correta = max(candidatos, key=probabilidade)\n",
    "    return palavra_correta"
   ]
  },
  {
   "cell_type": "code",
   "execution_count": 57,
   "id": "8854c2f7",
   "metadata": {},
   "outputs": [
    {
     "data": {
      "text/plain": [
       "'língua'"
      ]
     },
     "execution_count": 57,
     "metadata": {},
     "output_type": "execute_result"
    }
   ],
   "source": [
    "novo_corretor('líguaa')"
   ]
  },
  {
   "cell_type": "markdown",
   "id": "f39b7f07",
   "metadata": {},
   "source": [
    "### Reescrevendo a função avaliador() para utilizar a função novo_corretor()"
   ]
  },
  {
   "cell_type": "markdown",
   "id": "8707553a",
   "metadata": {},
   "source": [
    "Para o novo_corretor"
   ]
  },
  {
   "cell_type": "code",
   "execution_count": 58,
   "id": "5f1176e8",
   "metadata": {
    "scrolled": true
   },
   "outputs": [
    {
     "name": "stdout",
     "output_type": "stream",
     "text": [
      "55.38% de 186 palavras, desconhecida é 6.99%\n"
     ]
    }
   ],
   "source": [
    "def avaliador(testes, vocabulario):\n",
    "    numero_palavras = len(testes)\n",
    "    acertos = 0\n",
    "    desconhecida = 0\n",
    "    \n",
    "    for correta, errada in testes:\n",
    "        palavra_corrigida = novo_corretor(errada)\n",
    "        desconhecida += (correta not in vocabulario)\n",
    "        if palavra_corrigida == correta:\n",
    "            acertos += 1\n",
    "        else:\n",
    "            pass\n",
    "           # print(errada + '-' + corretor(errada) + '-' + palavra_corrigida)\n",
    "    taxa_acerto = round(acertos*100/numero_palavras, 2)\n",
    "    taxa_desconhecida = round(desconhecida*100/numero_palavras, 2)\n",
    "    print(f'{taxa_acerto}% de {numero_palavras} palavras, desconhecida é {taxa_desconhecida}%')\n",
    "\n",
    "vocabulario = set(lista_normalizada)\n",
    "avaliador(lista_teste, vocabulario)"
   ]
  },
  {
   "cell_type": "markdown",
   "id": "48f78bf0",
   "metadata": {},
   "source": [
    "Para corretor"
   ]
  },
  {
   "cell_type": "code",
   "execution_count": 59,
   "id": "4ca071ec",
   "metadata": {},
   "outputs": [
    {
     "name": "stdout",
     "output_type": "stream",
     "text": [
      "76.34% de 186 palavras, desconhecida é 6.99%\n"
     ]
    }
   ],
   "source": [
    "def avaliador(testes, vocabulario):\n",
    "    numero_palavras = len(testes)\n",
    "    acertos = 0\n",
    "    desconhecida = 0\n",
    "    \n",
    "    for correta, errada in testes:\n",
    "        palavra_corrigida = corretor(errada)\n",
    "        desconhecida += (correta not in vocabulario)\n",
    "        if palavra_corrigida == correta:\n",
    "            acertos += 1\n",
    "        \n",
    "    taxa_acerto = round(acertos*100/numero_palavras, 2)\n",
    "    taxa_desconhecida = round(desconhecida*100/numero_palavras, 2)\n",
    "    print(f'{taxa_acerto}% de {numero_palavras} palavras, desconhecida é {taxa_desconhecida}%')\n",
    "\n",
    "vocabulario = set(lista_normalizada)\n",
    "avaliador(lista_teste, vocabulario)"
   ]
  },
  {
   "cell_type": "markdown",
   "id": "f2a479c6",
   "metadata": {},
   "source": [
    "Correção com os dois corretores criados"
   ]
  },
  {
   "cell_type": "code",
   "execution_count": 60,
   "id": "5631a8be",
   "metadata": {},
   "outputs": [
    {
     "name": "stdout",
     "output_type": "stream",
     "text": [
      "lógica\n",
      "lógica\n"
     ]
    }
   ],
   "source": [
    "palavra = 'lóogica'\n",
    "print(corretor(palavra))\n",
    "print(novo_corretor(palavra))"
   ]
  },
  {
   "cell_type": "code",
   "execution_count": null,
   "id": "20cd26ef",
   "metadata": {},
   "outputs": [],
   "source": []
  }
 ],
 "metadata": {
  "kernelspec": {
   "display_name": "Python 3 (ipykernel)",
   "language": "python",
   "name": "python3"
  },
  "language_info": {
   "codemirror_mode": {
    "name": "ipython",
    "version": 3
   },
   "file_extension": ".py",
   "mimetype": "text/x-python",
   "name": "python",
   "nbconvert_exporter": "python",
   "pygments_lexer": "ipython3",
   "version": "3.9.7"
  }
 },
 "nbformat": 4,
 "nbformat_minor": 5
}
